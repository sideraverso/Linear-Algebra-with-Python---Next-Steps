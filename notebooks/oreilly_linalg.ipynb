{
 "cells": [
  {
   "cell_type": "markdown",
   "id": "criminal-spyware",
   "metadata": {},
   "source": [
    "# Linear Algebra with Python: Next Steps"
   ]
  },
  {
   "cell_type": "code",
   "execution_count": 1,
   "id": "distributed-cooperative",
   "metadata": {},
   "outputs": [],
   "source": [
    "import numpy as np\n",
    "import matplotlib.pyplot as plt\n",
    "import pandas as pd"
   ]
  },
  {
   "cell_type": "markdown",
   "id": "collective-calculator",
   "metadata": {},
   "source": [
    "## Linear Algebra & NumPy Recap"
   ]
  },
  {
   "cell_type": "markdown",
   "id": "exterior-dimension",
   "metadata": {},
   "source": [
    "Linear algebra is the branch of mathematics dealing with linear equations and their representations in vector spaces and through matrices. Much of machine learning is built on top of linear algebra making it an important skill for data scientists to know.\n",
    "\n",
    "We'll focus on some of the most useful tools in linear algebra for machine learning, and how to implement them with NumPy, but we'll first start out some review of the basics!\n",
    "\n",
    "First, some helpful notation:\n",
    " - By $A_{m \\times n}$ we denote a matrix $A$ with m rows and n columns.\n",
    " - By $\\vec{x}$ in $\\mathbb{R}^n$, we denote a vector with n entries. By convention, an n-dimensional vector is often thought of as a matrix with n rows and 1 column, known as a column vector:\n",
    " \n",
    " $$\\vec{x} = \\begin{pmatrix}x_1\\\\ x_2\\\\ ... \\\\ x_n\\end{pmatrix}$$\n"
   ]
  },
  {
   "attachments": {
    "28cd2cbb-fe6a-485d-b903-776fa8709c0e.png": {
     "image/png": "[encoded data removed]"
    }
   },
   "cell_type": "markdown",
   "id": "certain-poverty",
   "metadata": {},
   "source": [
    "<h4>Vectors and matrices (and their relevance in ML)</h4>\n",
    "\n",
    "Recall a vector, $\\vec{x}$ in $\\mathbb{R}^n$. In practice vectors usually have two main interpretations\n",
    "    \n",
    "      1. A list of n numbers or a collection\n",
    "      2. Location and direction in n-dimensional space.\n",
    "    \n",
    "For example, the vector $\\vec{x} = \\begin{pmatrix}1\\\\1\\end{pmatrix}$ could represent two items in a list, or could be represented by the position and direction shown by the red arrow in the graph below.\n",
    "    \n",
    "![image.png](attachment:28cd2cbb-fe6a-485d-b903-776fa8709c0e.png) \n",
    "\n",
    "\n",
    "We will mostly focus on the numerical interpretation of vectors, but it is often intereasting and helpful to think about their geometric interpretations. In particular, we will focus on some of the interpretations of linear algebra that are directly related to machine learning.\n",
    "\n",
    "Recall the ideas behind supervised[1] machine learning: you have inputs $x_1, x_2, ..., x_n$ with labels $y_1, y_2, ..., y_n$, then you are trying to find patterns in the data to predict the labels for new inputs. A very convenient way to represent this as a system of linear equations where you have a matrix $X_{nxd}$ of all your x values:\n",
    "\n",
    "$$ \\mathbf{X} = \\begin{pmatrix}x_{0,0} & x_{0,1} & ... & x_{0,d}\\\\x_{1,0} & x_{1,1} & ... & x_{1,d}\\\\  &  & ... & \\\\x_{n,0} & x_{n,1} & ... & x_{n,d}\\end{pmatrix} $$\n",
    "\n",
    "And an n-dimensional vector $y \\in \\mathbb{R}^n$:\n",
    "\n",
    "$$\\vec{y} = \\begin{pmatrix}y_1\\\\ y_2\\\\ ... \\\\ y_n\\end{pmatrix}$$\n",
    "\n",
    "Then we want to find a $d \\times 1$ vector $\\beta$ that <i>best</i> represents the relationship between x and y:\n",
    "\n",
    "$$ \\vec{\\beta} = \\begin{pmatrix}\\beta_0 & \\beta_1 & ... & \\beta_d\\end{pmatrix} $$\n",
    "\n",
    "This ends up giving us the system of equations $\\mathbf{X}\\vec{\\beta} = \\vec{y}$:\n",
    "\n",
    "$$\\begin{pmatrix}x_{0,0} & x_{0,1} & ... & x_{0,d}\\\\x_{1,0} & x_{1,1} & ... & x_{1,d}\\\\  &  & ... & \\\\x_{n,0} & x_{n,1} & ... & x_{n,d}\\end{pmatrix} \\begin{pmatrix}\\beta_0 & \\beta_1 & ... & \\beta_d\\end{pmatrix} =\\begin{pmatrix}y_1\\\\ y_2\\\\ ... \\\\ y_n\\end{pmatrix}$$\n",
    "\n",
    "In order to understand and work with this system of equations, we will review matrix multiplication, dot products, and how to use numpy to find them!\n",
    "\n",
    "\n",
    "\n",
    "\n",
    "<h6>[1] If you are new to machine learning, supervised means ... TODO</h6>"
   ]
  },
  {
   "attachments": {
    "c3d2ae58-07bd-446d-a2d2-d5e313b0a558.png": {
     "image/png": "[encoded data removed]"
    }
   },
   "cell_type": "markdown",
   "id": "gentle-tragedy",
   "metadata": {},
   "source": [
    "<h4>Matrix multiplication</h4>\n",
    "\n",
    "Geometrically, we can think of matrix multiplication as \n",
    "\n",
    "Practically, when we are dealing with a system of equations $A\\vec{x} = \\vec{y}$, it is useful \n",
    "\n",
    "When dealing with systems of equations, or wanting to find Matrix multiplication between two matrices X and Y, expressed in NumPy as $X@Y$ or <i>np.matmul(X,Y)</i> works as follows:\n",
    "\n",
    "![image.png](attachment:c3d2ae58-07bd-446d-a2d2-d5e313b0a558.png)\n",
    "\n",
    "\n",
    "Recall that the dimensions must line up - ${M}_{n \\times m}, {N}_{m \\times p} \\rightarrow M1M2_{n \\times p}$\n",
    "Which means that matrix multiplication is not commutative, for example: \n",
    "\n",
    "$$\\mathbf{M} = \\begin{pmatrix}2 & 4 & 6\\\\3 & 5 & 7\\end{pmatrix}\\qquad\n",
    "\\mathbf{N} = \\begin{pmatrix}1 & 2 & 3\\\\ 4 & 5 & 6\\\\7 & 8 & 9\\end{pmatrix}$$\n",
    "$\\mathbf{MN}$ is defined, but $\\mathbf{NM}$ is not.\n",
    "\n",
    "Furthermore, if we take a look back at the system of equations defined by $\\mathbf{X}\\vec{\\beta} = \\vec{y}$, we can see that $\\mathbf{X}$ is a $n \\times d$-dimensional vector, and $\\beta$ is a $d \\times 1$-dimensional vector. Therefore, matrix multiplication is defined, and should output a $1 \\times n$-dimensional vector, which lines up with $\\vec{y}$'s dimensionality!"
   ]
  },
  {
   "cell_type": "markdown",
   "id": "collected-semester",
   "metadata": {},
   "source": [
    "<h4>Dot Products</h4>\n",
    "Dot products are a special case of matrix multiplication. The dot product between two vectors of the same size, $\\vec{x} \\cdot \\vec{y}$, is found by the taking the sum of multiplying corresponding entries. i.e. for $\\vec{x} = \\begin{pmatrix}x_1 & x_2 & \\cdots & x_n\\end{pmatrix}$ and $ \\vec{y} = \\begin{pmatrix}y_1 & y_2 & \\cdots & y_n\\end{pmatrix}$"
   ]
  },
  {
   "cell_type": "markdown",
   "id": "cooked-therapist",
   "metadata": {},
   "source": [
    "$$\\vec{x} \\cdot \\vec{y} = x_1y_1 + x_2y_2 + \\cdots + x_ny_n$$"
   ]
  },
  {
   "cell_type": "markdown",
   "id": "headed-outreach",
   "metadata": {},
   "source": [
    "<b><u>Exercise<u></b> Implement the dot product between the two first using python code, then using NumPy. Note: NumPy has a great library for linear algebra which you can use here, and which we will be using throughout the course: https://numpy.org/doc/stable/reference/routines.linalg.html"
   ]
  },
  {
   "cell_type": "code",
   "execution_count": 2,
   "id": "continent-destiny",
   "metadata": {},
   "outputs": [],
   "source": [
    "def dot_product_python(A, B):\n",
    "    # Write implentation using python here\n",
    "    pass"
   ]
  },
  {
   "cell_type": "code",
   "execution_count": 3,
   "id": "banned-photographer",
   "metadata": {},
   "outputs": [],
   "source": [
    "def dot_product_numpy(A, B):\n",
    "    # Write implementation using NumPy here\n",
    "    pass"
   ]
  },
  {
   "cell_type": "markdown",
   "id": "industrial-garlic",
   "metadata": {},
   "source": [
    "Now, use your functions to find the dot product between the following vectors:\n",
    "\n",
    "$$A_1=\\begin{pmatrix}2\\\\4\\\\1\\\\7\\\\4\\end{pmatrix} \\qquad B_1=\\begin{pmatrix}1\\\\9\\\\0\\\\0\\\\1\\end{pmatrix}$$. \n",
    "\n",
    "$$A_2=[1]^{100} \\qquad B_2=[2]^{100}$$"
   ]
  },
  {
   "cell_type": "code",
   "execution_count": 4,
   "id": "entertaining-falls",
   "metadata": {},
   "outputs": [
    {
     "name": "stdout",
     "output_type": "stream",
     "text": [
      "CPU times: user 31 µs, sys: 2 µs, total: 33 µs\n",
      "Wall time: 36 µs\n"
     ]
    }
   ],
   "source": [
    "%%time\n",
    "\n",
    "A1 = [2,4,1,7,4]\n",
    "B1 = [1,9,0,0,1]\n",
    "\n",
    "A2 = [1] * 100\n",
    "B2 = [2] * 100\n",
    "\n",
    "dot_product_python(A1, B1)"
   ]
  },
  {
   "cell_type": "code",
   "execution_count": 5,
   "id": "single-variety",
   "metadata": {},
   "outputs": [
    {
     "name": "stdout",
     "output_type": "stream",
     "text": [
      "CPU times: user 95 µs, sys: 5 µs, total: 100 µs\n",
      "Wall time: 104 µs\n"
     ]
    }
   ],
   "source": [
    "%%time\n",
    "\n",
    "A = np.array([2,4,1,7,4])\n",
    "B = np.array([1,9,0,0,1])\n",
    "\n",
    "A2 = np.ones(100)\n",
    "B2 = np.ones(100) * 2\n",
    "\n",
    "dot_product_numpy(A1, B1)"
   ]
  },
  {
   "cell_type": "markdown",
   "id": "considered-catering",
   "metadata": {},
   "source": [
    "Notice how much more efficient numpy arrays are, <i>and</i> how much easier it is to find a dot product. What else does NumPy make easier? Lots!!"
   ]
  },
  {
   "cell_type": "markdown",
   "id": "ignored-walker",
   "metadata": {},
   "source": [
    "<b><u>Exercise</u></b> Using NumPy do the following:\n",
    "\n",
    "    1. Find MN\n",
    "    2. show that NM is not defined\n"
   ]
  },
  {
   "cell_type": "code",
   "execution_count": 6,
   "id": "ruled-money",
   "metadata": {},
   "outputs": [],
   "source": [
    "M = np.array([[2,4,6],[3,5,7]])\n",
    "N = np.array([[1,2,3],[4,5,6],[7,8,9]])\n",
    "\n",
    "# find MN\n",
    "\n",
    "# show what happens when you try to multiply NM"
   ]
  },
  {
   "cell_type": "markdown",
   "id": "hundred-marking",
   "metadata": {},
   "source": [
    "## Special Types of Matrices"
   ]
  },
  {
   "cell_type": "markdown",
   "id": "korean-reset",
   "metadata": {},
   "source": [
    "<b><u>Identity Matrix</u></b>: Identity matrices are square matrices with ones along the diagonal, and zeros everywhere else. The $n \\times n$ identity matrix is the <i>multiplicative identity</i> for matrices in $\\mathbb{R}^n$. Essentially, it does the same thing that the number 1 does with scalar multiplication in $\\mathbb{R}$. Essentially, for $A_{nxn}$ we have that  $AI = IA = A$. For example:\n",
    "\n",
    "$$\\begin{pmatrix}1 & 2 & 3\\\\4 & 5 & 6\\\\7 & 8 & 9\\end{pmatrix} \\begin{pmatrix}1 & 0 & 0\\\\ 0 & 1 & 0\\\\0 & 0 & 1\\end{pmatrix} = \\begin{pmatrix}1 & 2 & 3\\\\4 & 5 & 6\\\\7 & 8 & 9\\end{pmatrix}$$\n",
    "\n",
    "Furthermore, $I_{nxn}$ is the multiplicative inverse of any matrix for which matrix multiplication is defined. If we have $B_{dxn}$, then $BI=B$, and if we have $C_{nxd}$, then $IC = C.$ \n",
    "\n",
    "<b><u>Inverse Matrix</u></b>: Another important application of inverse matrices comes up when we define inverse matrices. The inverse of a matrix is defined as $A^{-1}$ such that $AA^{-1} = A^{-1}A = I$. Note that not all matrices have inverses. Non-square matrices, for example, do not have inverses by definition. However, for some square matrices $A$, it may still be the case that $A^{-1}$ may not exist. The quick way to check for invertibility is to find the determinant of a matrix. For $n \\times n$ matrix $A$, if $det(A) = 0$, then the matrix is not invertible. Otherwise $A$ is invertible. We can use NumPy to help us figure this out, and to find the inverse of a matrix! "
   ]
  },
  {
   "cell_type": "markdown",
   "id": "green-russian",
   "metadata": {},
   "source": [
    "<b>Exercise:</b> Find the determinant of the matrices A, B, C and D defined below. If the determinant $\\neq 0$, find it's inverse. Then verify that the product of a matrix and it's inverse is the identity. With NumPy, you can use np.eye(n) to produce $I_{n \\times n}$. (Useful reference: https://numpy.org/doc/stable/reference/routines.linalg.html)"
   ]
  },
  {
   "cell_type": "code",
   "execution_count": 8,
   "id": "progressive-jenny",
   "metadata": {},
   "outputs": [],
   "source": [
    "A = np.array([[1,2,3],[0,1,4],[5,6,0]])\n",
    "\n",
    "B = np.array([[1,2,3],[4,5,6],[7,8,9]])\n",
    "\n",
    "C = np.array([[6,-1,-1],[-1,6,-1],[-1,-1,1]])\n",
    "\n",
    "D = np.array([[-2,4],[1,-3]])"
   ]
  },
  {
   "cell_type": "markdown",
   "id": "parliamentary-going",
   "metadata": {},
   "source": [
    "<b><u>Diagonal Matrix</u></b> Diagonal matrices are square matrices which have entries along the diagonal and zeros everywhere else. Diagonal matrices are nice to work with because:\n",
    "\n",
    "1. Their eigenvalues and eigenvectors are known (will cover this in later section)\n",
    "2. Raising diagonal matrices to a power is equivalent to raising each of it's diagonal entries to that power. Instead of multiplying out a matrix p times, you can just computer scalars to a power instead:\n",
    "\n",
    "$$\\begin{pmatrix}\\ x_1 & 0 & 0\\\\0 & x_2 & 0\\\\0 & 0 & x_3\\end{pmatrix} \\times \\begin{pmatrix}\\ x_1 & 0 & 0\\\\0 & x_2 & 0\\\\0 & 0 & x_3\\end{pmatrix} \\times ... \\times \\begin{pmatrix}\\ x_1 & 0 & 0\\\\0 & x_2 & 0\\\\0 & 0 & x_3\\end{pmatrix} = \\begin{pmatrix}\\ (x_1)^p & 0 & 0\\\\0 & (x_2)^p & 0\\\\0 & 0 & (x_3)^p\\end{pmatrix}$$"
   ]
  },
  {
   "cell_type": "markdown",
   "id": "conservative-athens",
   "metadata": {},
   "source": [
    "## Inner Products and Norms"
   ]
  },
  {
   "cell_type": "markdown",
   "id": "adverse-wheel",
   "metadata": {},
   "source": [
    "Inner product is another term for dot product, and in this section we will further explore the importance of finding the inner product between vectors and normalizing vectors. Consider the supervised machine learning scenario presented earlier, where you have n entries of d-dimensional feature vectors represented as $X$, n labels for those feature vectors, $\\vec{y},$ and the *best* $\\vec{\\beta}$ that represents the relationship between $X$ and $\\vec{y}$. This is a very general model, and there are many different algorithms that fall under the umbrella of 'supervised machine learning.' But they all beg the question of what does *best* mean in this context. In general, *best* means the value for $\\beta$ which minimizes the error when predicting $\\vec{y}$. The way we typically find this prediction error is by finding the norm of $X\\vec{\\beta} - \\vec{y}$"
   ]
  },
  {
   "cell_type": "markdown",
   "id": "killing-suicide",
   "metadata": {},
   "source": [
    "The <b><u>norm</u></b> of a vector informally represents the 'length' of a vector. For example, the $\\ell_2$-norm (a.k.a the Euclidean norm) is the square root of the dot product of a vector with itself, represented as $\\|\\vec{x}\\|$:\n",
    "\n",
    "$$\\|\\vec{x}\\| = \\sqrt{x_0^2 + x_1^2 + \\cdots + x_n^2}$$\n",
    "\n",
    "Similarly, there are other types of norms, $\\ell_1$-norm which finds returns the sum of the absolute value of each entry, and the $\\ell_{\\infty}$-norm, which just returns the maximum of the absolute value of each entry of a vector."
   ]
  },
  {
   "cell_type": "markdown",
   "id": "signal-trading",
   "metadata": {},
   "source": [
    "<b><u>Exercise</u></b> find the $\\ell_1$-norm, $\\ell_2$-norm and $\\ell_{\\infty}$-norm of the following vectors:\n",
    "\n",
    "$$\\vec{a} = \\begin{pmatrix}\\ 4\\\\-2\\\\-7\\\\3\\end{pmatrix} \\qquad \\vec{b} = \\begin{pmatrix}\\ 1\\\\1\\\\1\\\\1\\\\1\\end{pmatrix} \\qquad \\vec{c} = \\begin{pmatrix}\\ 100\\\\10\\\\0\\\\-10\\\\-100\\end{pmatrix}$$"
   ]
  },
  {
   "cell_type": "code",
   "execution_count": 12,
   "id": "indian-sculpture",
   "metadata": {},
   "outputs": [],
   "source": [
    "a = np.array([4,-2,7,3])\n",
    "b = np.array([1,1,1,1,1])\n",
    "c = np.array([100,10,0,-10,-100])\n",
    "\n",
    "# Using numpy or computations, find l_1, l_2, l_inf norms of a and b"
   ]
  },
  {
   "cell_type": "markdown",
   "id": "final-authentication",
   "metadata": {},
   "source": [
    "<b><u>Orthogonal Vectors</u></b>: Orthogonal means perpindicular, so if two vectors are orthogonal then they are perpindicular to one another. Computationally, two vectors are orthogonal if $\\vec{x} \\cdot \\vec{y} = 0$. "
   ]
  },
  {
   "cell_type": "markdown",
   "id": "palestinian-speaking",
   "metadata": {},
   "source": [
    "<b><u>Exercise</u></b>: Determine which of the following pairs of vectors are orthogonal.\n",
    "    \n",
    "$$\\vec{a}=\\begin{pmatrix}1\\\\0\\\\0\\end{pmatrix},\\vec{b}=\\begin{pmatrix}0\\\\1\\\\0\\end{pmatrix}$$\n",
    "\n",
    "$$\\vec{c}=\\begin{pmatrix}1\\\\1\\\\1\\end{pmatrix},\\vec{d}=\\begin{pmatrix}5\\\\2\\\\0\\end{pmatrix}$$\n",
    "\n",
    "$$\\vec{e}=\\begin{pmatrix}1\\\\-1\\\\0\\end{pmatrix},\\vec{f}=\\begin{pmatrix}-1\\\\1\\\\0\\end{pmatrix}$$"
   ]
  },
  {
   "cell_type": "code",
   "execution_count": 13,
   "id": "funky-conference",
   "metadata": {},
   "outputs": [],
   "source": [
    "a = np.array([1,0,0])\n",
    "b = np.array([0,1,0])\n",
    "c = np.array([1,1,1])\n",
    "d = np.array([5,2,0])\n",
    "e = np.array([1,-1,0])\n",
    "f = np.array([-1,1,0])"
   ]
  },
  {
   "cell_type": "markdown",
   "id": "related-apartment",
   "metadata": {},
   "source": [
    "## Eigenvalues and Eigenvectors"
   ]
  },
  {
   "cell_type": "markdown",
   "id": "catholic-support",
   "metadata": {},
   "source": [
    "Eigen in German means characteristic, so *eigenvector* means characteristic vector. In order to get a better understanding of what this means, it's useful to return back to our geometric interpretation of linear algebra. Just as we could think of vectors as location and direction, we can think of matrices as linear transformations, where matrix-vector multiplication transforrms a vector. With this idea in mind, we can define $\\lambda$ as the <b>eigenvalue</b> for a matrix $A$ for corresponding <b>eigenvector</b> $\\vec{x}$ such that $A\\vec{x} = \\lambda\\vec{x}$. Intuitively, this definition means that multiplying $A$ by the vector $\\vec{x}$ results in a new vector that points in the same direction as $\\vec{x}$, but scaled by a factor $\\lambda$. You can only find eigenvalues and eigenvectors for square matrices."
   ]
  },
  {
   "cell_type": "markdown",
   "id": "printable-ordering",
   "metadata": {},
   "source": [
    "<b><u>Exercise</u></b> Using numpy, find the eigenvalues of the following matrices:\n",
    "\n",
    "$$J = \\begin{pmatrix}\\ 2 & 2 & 2\\\\2 & 2 & 2\\\\2 & 2 & 2\\end{pmatrix} \\qquad K = \\begin{pmatrix}\\ 1 & 2 & 3\\\\0 & 4 & 5\\\\0 & 0 & 6\\end{pmatrix} \\qquad L = \\begin{pmatrix}\\ 0 & 0 & 1\\\\0 & 2 & 0\\\\3 & 0 & 0\\end{pmatrix}$$"
   ]
  },
  {
   "cell_type": "markdown",
   "id": "attractive-marriage",
   "metadata": {},
   "source": [
    "## Singular Value Decomposition"
   ]
  },
  {
   "cell_type": "markdown",
   "id": "whole-midwest",
   "metadata": {},
   "source": [
    "Since we can only decompose square matrices into eigenvalues and eigenvectors, we turn to <b>singular value decomposition</b> to decompose non-square $m \\times n$-dimensional matrices. In very simplified terms, SVD is just decompos;ing vectors onto orthogonal (perpindicular) axes."
   ]
  },
  {
   "cell_type": "markdown",
   "id": "cheap-symposium",
   "metadata": {},
   "source": [
    "<b><u>Exercise</u></b> Using SVD in NumPy, decompose the following matrix:\n",
    "\n",
    "$$J = \\begin{pmatrix}\\ 1 & 2\\\\0 & 1\\\\2 & -1\\end{pmatrix}$$"
   ]
  }
 ],
 "metadata": {
  "kernelspec": {
   "display_name": "Python 3",
   "language": "python",
   "name": "python3"
  },
  "language_info": {
   "codemirror_mode": {
    "name": "ipython",
    "version": 3
   },
   "file_extension": ".py",
   "mimetype": "text/x-python",
   "name": "python",
   "nbconvert_exporter": "python",
   "pygments_lexer": "ipython3",
   "version": "3.9.1"
  }
 },
 "nbformat": 4,
 "nbformat_minor": 5
}
