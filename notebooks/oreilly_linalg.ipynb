{
 "cells": [
  {
   "cell_type": "markdown",
   "id": "pediatric-underwear",
   "metadata": {},
   "source": [
    "# Linear Algebra with Python: Next Steps"
   ]
  },
  {
   "cell_type": "code",
   "execution_count": 3,
   "id": "defensive-fundamental",
   "metadata": {},
   "outputs": [],
   "source": [
    "import numpy as np"
   ]
  },
  {
   "cell_type": "markdown",
   "id": "forty-medicare",
   "metadata": {},
   "source": [
    "## Linear Algebra & NumPy Recap"
   ]
  },
  {
   "cell_type": "markdown",
   "id": "marked-broadway",
   "metadata": {},
   "source": [
    "Linear algebra is the branch of mathematics dealing with linear equations and their representations in vector spaces and through matrices. Much of machine learning is built on top of linear algebra making it an important skill for data scientists to know.\n",
    "\n",
    "We'll focus on some of the most useful tools in linear algebra for machine learning, and how to implement them with NumPy, but we'll first start out some review of the basics!\n",
    "\n",
    "First, some helpful notation:\n",
    " - By $A_{m \\times n}$ we denote a matrix $A$ with m rows and n columns.\n",
    " - By $\\vec{x}$ in $\\mathbb{R}^n$, we denote a vector with n entries. By convention, an n-dimensional vector is often thought of as a matrix with n rows and 1 column, known as a column vector:\n",
    " \n",
    " $$\\vec{x} = \\begin{pmatrix}x_1\\\\ x_2\\\\ ... \\\\ x_n\\end{pmatrix}$$\n"
   ]
  },
  {
   "attachments": {
    "28cd2cbb-fe6a-485d-b903-776fa8709c0e.png": {
     "image/png": "[encoded data removed]"
    }
   },
   "cell_type": "markdown",
   "id": "lesser-upgrade",
   "metadata": {},
   "source": [
    "<h4>Vectors and matrices (and their relevance in ML)</h4>\n",
    "\n",
    "Recall a vector, $\\vec{x}$ in $\\mathbb{R}^n$. In practice vectors usually have two main interpretations\n",
    "    \n",
    "      1. A list of n numbers or a collection\n",
    "      2. Location and direction in n-dimensional space.\n",
    "    \n",
    "For example, the vector $\\vec{x} = \\begin{pmatrix}1\\\\1\\end{pmatrix}$ could represent two items in a list, or could be represented by the position and direction shown by the red arrow in the graph below.\n",
    "    \n",
    "![image.png](attachment:28cd2cbb-fe6a-485d-b903-776fa8709c0e.png) \n",
    "\n",
    "\n",
    "We will mostly focus on the numerical interpretation of vectors, but it is often intereasting and helpful to think about their geometric interpretations. In particular, we will focus on some of the interpretations of linear algebra that are directly related to machine learning.\n",
    "\n",
    "Recall the ideas behind supervised[1] machine learning: you have inputs $x_1, x_2, ..., x_n$ with labels $y_1, y_2, ..., y_n$, then you are trying to find patterns in the data to predict the labels for new inputs. A very convenient way to represent this as a system of linear equations where you have a matrix $X_{nxd}$ of all your x values:\n",
    "\n",
    "$$ \\mathbf{X} = \\begin{pmatrix}x_{0,0} & x_{0,1} & ... & x_{0,d}\\\\x_{1,0} & x_{1,1} & ... & x_{1,d}\\\\  &  & ... & \\\\x_{n,0} & x_{n,1} & ... & x_{n,d}\\end{pmatrix} $$\n",
    "\n",
    "And an n-dimensional vector $y \\in \\mathbb{R}^n$:\n",
    "\n",
    "$$\\vec{y} = \\begin{pmatrix}y_1\\\\ y_2\\\\ ... \\\\ y_n\\end{pmatrix}$$\n",
    "\n",
    "Then we want to find a $d \\times 1$ vector $\\beta$ that <i>best</i> represents the relationship between x and y:\n",
    "\n",
    "$$ \\vec{\\beta} = \\begin{pmatrix}\\beta_0 & \\beta_1 & ... & \\beta_d\\end{pmatrix} $$\n",
    "\n",
    "This ends up giving us the system of equations $\\mathbf{X}\\vec{\\beta} = \\vec{y}$:\n",
    "\n",
    "$$\\begin{pmatrix}x_{0,0} & x_{0,1} & ... & x_{0,d}\\\\x_{1,0} & x_{1,1} & ... & x_{1,d}\\\\  &  & ... & \\\\x_{n,0} & x_{n,1} & ... & x_{n,d}\\end{pmatrix} \\begin{pmatrix}\\beta_0 & \\beta_1 & ... & \\beta_d\\end{pmatrix} =\\begin{pmatrix}y_1\\\\ y_2\\\\ ... \\\\ y_n\\end{pmatrix}$$\n",
    "\n",
    "In order to understand and work with this system of equations, we will review matrix multiplication, dot products, and how to use numpy to find them!\n",
    "\n",
    "\n",
    "$$\\newline$$\n",
    "\n",
    "\n",
    "<h6>[1] If you are new to machine learning, supervised means ... TODO</h6>"
   ]
  },
  {
   "cell_type": "markdown",
   "id": "gross-atlas",
   "metadata": {},
   "source": [
    "<h4>Matrix multiplication</h4>\n",
    "\n",
    "Geometrically, we can think of matrix multiplication as \n",
    "\n",
    "Practically, when we are dealing with a system of equations $A\\vec{x} = \\vec{y}$, it is useful \n",
    "\n",
    "When dealing with systems of equations, or wanting to find Matrix multiplication between two matrices X and Y, expressed in NumPy as $X@Y$ or <i>np.matmul(X,Y)</i> works as follows:\n",
    "\n",
    "$$\\begin{pmatrix}a_{0,0} & ... & a_{0,n}\\\\  &  ... & \\\\a_{m,0} & ... & a_{m,n}\\end{pmatrix} \\begin{pmatrix}b_{0,0} &  ... & b_{0,p}\\\\  &  ... & \\\\b_{n,0} & ... & b_{n,p}\\end{pmatrix} = \\begin{pmatrix}a_{0,0} * b_{0,0} + ... + a_{0,n} * b_{n,0} & ... & a_{0,0} * b_{0,p} + ... + a_{0,n} * b_{n,p}\\\\ & ... & \\\\a_{m,0} * b_{0,0} + ... + a_{m,n} * b_{n,0} & ... & a_{m,0} * b_{0,p} + ... + a_{m,n} * b_{n,p}\\end{pmatrix}$$\n",
    "\n",
    "Recall that the dimensions must line up - ${M}_{n \\times m}, {N}_{m \\times p} \\rightarrow MN_{n \\times p}$\n",
    "Which means that matrix multiplication is not commutative, for example: \n",
    "\n",
    "$$\\mathbf{M} = \\begin{pmatrix}2 & 4 & 6\\\\3 & 5 & 7\\end{pmatrix}\\qquad\n",
    "\\mathbf{N} = \\begin{pmatrix}1 & 2 & 3\\\\ 4 & 5 & 6\\\\7 & 8 & 9\\end{pmatrix}$$\n",
    "$\\mathbf{MN}$ is defined, but $\\mathbf{NM}$ is not.\n",
    "\n",
    "Furthermore, if we take a look back at the system of equations defined by $\\mathbf{X}\\vec{\\beta} = \\vec{y}$, we can see that $\\mathbf{X}$ is a $n \\times d$-dimensional vector, and $\\beta$ is a $d \\times 1$-dimensional vector. Therefore, matrix multiplication is defined, and should output a $1 \\times n$-dimensional vector, which lines up with $\\vec{y}$'s dimensionality!"
   ]
  },
  {
   "cell_type": "markdown",
   "id": "quiet-homework",
   "metadata": {},
   "source": [
    "<h4>Dot Products</h4>\n",
    "Dot products are a special case of matrix multiplication. The dot product between two vectors of the same size, $\\vec{x} \\cdot \\vec{y}$, is found by the taking the sum of multiplying corresponding entries. i.e. for $\\vec{x} = \\begin{pmatrix}x_1 & x_2 & \\cdots & x_n\\end{pmatrix}$ and $ \\vec{y} = \\begin{pmatrix}y_1 & y_2 & \\cdots & y_n\\end{pmatrix}$"
   ]
  },
  {
   "cell_type": "markdown",
   "id": "interim-stomach",
   "metadata": {},
   "source": [
    "$$\\vec{x} \\cdot \\vec{y} = x_1y_1 + x_2y_2 + \\cdots + x_ny_n$$"
   ]
  },
  {
   "cell_type": "markdown",
   "id": "seventh-converter",
   "metadata": {},
   "source": [
    "<b><u>Exercise<u></b> Implement the dot product between the two first using python code, then using NumPy. (Note: NumPy has a 'dot' function you can use!)"
   ]
  },
  {
   "cell_type": "code",
   "execution_count": 2,
   "id": "bored-crack",
   "metadata": {},
   "outputs": [],
   "source": [
    "def dot_product_python(A, B):\n",
    "    # Write implentation using python here\n",
    "    pass"
   ]
  },
  {
   "cell_type": "code",
   "execution_count": 3,
   "id": "prostate-border",
   "metadata": {},
   "outputs": [],
   "source": [
    "def dot_product_numpy(A, B):\n",
    "    # Write implementation using NumPy here\n",
    "    pass"
   ]
  },
  {
   "cell_type": "markdown",
   "id": "premier-china",
   "metadata": {},
   "source": [
    "Now, use your functions to find the dot product between the following vectors:\n",
    "\n",
    "$$A_1=\\begin{pmatrix}2\\\\4\\\\1\\\\7\\\\4\\end{pmatrix} \\qquad B_1=\\begin{pmatrix}1\\\\9\\\\0\\\\0\\\\1\\end{pmatrix}$$. \n",
    "\n",
    "$$A_2=[1]^{1000} \\qquad B_2=[2]^{1000}$$"
   ]
  },
  {
   "cell_type": "code",
   "execution_count": 4,
   "id": "colored-violence",
   "metadata": {},
   "outputs": [
    {
     "name": "stdout",
     "output_type": "stream",
     "text": [
      "CPU times: user 31 µs, sys: 2 µs, total: 33 µs\n",
      "Wall time: 36 µs\n"
     ]
    }
   ],
   "source": [
    "%%time\n",
    "\n",
    "A1 = [2,4,1,7,4]\n",
    "B1 = [1,9,0,0,1]\n",
    "\n",
    "A2 = [1] * 1000\n",
    "B2 = [2] * 1000\n",
    "\n",
    "dot_product_python(A1, B1)"
   ]
  },
  {
   "cell_type": "code",
   "execution_count": 5,
   "id": "political-zoning",
   "metadata": {},
   "outputs": [
    {
     "name": "stdout",
     "output_type": "stream",
     "text": [
      "CPU times: user 95 µs, sys: 5 µs, total: 100 µs\n",
      "Wall time: 104 µs\n"
     ]
    }
   ],
   "source": [
    "%%time\n",
    "\n",
    "A = np.array([2,4,1,7,4])\n",
    "B = np.array([1,9,0,0,1])\n",
    "\n",
    "A2 = np.ones(1000)\n",
    "B2 = np.ones(1000) * 2\n",
    "\n",
    "dot_product_numpy(A1, B1)"
   ]
  },
  {
   "cell_type": "markdown",
   "id": "numeric-cleveland",
   "metadata": {},
   "source": [
    "Notice how much more efficient numpy arrays are, <i>and</i> how much easier it is to find a dot product. What else does NumPy make easier? Lots!!"
   ]
  },
  {
   "cell_type": "markdown",
   "id": "weird-revelation",
   "metadata": {},
   "source": [
    "<b><u>Exercise</u></b> Using NumPy do the following:\n",
    "\n",
    "    1. Find MN\n",
    "    2. show that NM is not defined\n"
   ]
  },
  {
   "cell_type": "code",
   "execution_count": 6,
   "id": "deadly-tobacco",
   "metadata": {},
   "outputs": [],
   "source": [
    "M = np.array([[2,4,6],[3,5,7]])\n",
    "N = np.array([[1,2,3],[4,5,6],[7,8,9]])\n",
    "\n",
    "# find MN\n",
    "\n",
    "# show what happens when you try to multiply NM"
   ]
  },
  {
   "cell_type": "markdown",
   "id": "latin-liabilities",
   "metadata": {},
   "source": [
    "## Special Types of Matrices"
   ]
  },
  {
   "cell_type": "markdown",
   "id": "immediate-number",
   "metadata": {},
   "source": [
    "<b><u>Square Matrix</u></b>: Square matrices have the same number of rows and columns. Examples of square matrices are:\n",
    "\n",
    "$$\\begin{pmatrix}1 & 0\\\\-1 & 0\\end{pmatrix} \\qquad \\begin{pmatrix}1 & 2 & 3\\\\4 & 5 & 6\\\\7 & 8 & 9\\end{pmatrix} \\qquad \\begin{pmatrix}1 & 0 & 0 & 0\\\\1 & 1 & 0 & 0\\\\1 & 1 & 1 & 0\\\\1 & 1 & 1 & 1\\end{pmatrix}$$\n",
    "\n",
    "<b><u>Identity Matrix</u></b>: Identity matrices are square matrices with ones along the diagonal, and zeros everywhere else. The $n \\times n$ identity matrix is the <i>multiplicative identity</i> for matrices in $\\mathbb{R}^n$. Essentially, it does the same thing that the number 1 does with scalar multiplication in $\\mathbb{R}$. Essentially, for $A_{nxn}$ we have that  $AI = IA = A$. For example:\n",
    "\n",
    "$$\\begin{pmatrix}1 & 2 & 3\\\\4 & 5 & 6\\\\7 & 8 & 9\\end{pmatrix} \\begin{pmatrix}1 & 0 & 0\\\\ 0 & 1 & 0\\\\0 & 0 & 1\\end{pmatrix} = \\begin{pmatrix}1 & 2 & 3\\\\4 & 5 & 6\\\\7 & 8 & 9\\end{pmatrix}$$\n",
    "\n",
    "Furthermore, $I_{nxn}$ is the multiplicative inverse of any matrix for which matrix multiplication is defined. If we have $B_{dxn}$, then $BI=B$, and if we have $C_{nxd}$, then $IC = C.$ \n",
    "\n",
    "<b><u>Inverse Matrix</u></b>: Another important application of the identity matrix comes up when we define inverse matrices. The inverse of a matrix is defined as $A^{-1}$ such that $AA^{-1} = A^{-1}A = I$. Note that not all matrices have inverses. Non-square matrices, for example, do not have inverses by definition. However, for some square matrices $A$, it may still be the case that $A^{-1}$ may not exist. The quick way to check for invertibility is to find the determinant of a matrix. For $n \\times n$ matrix $A$, if $det(A) = 0$, then the matrix is not invertible. Otherwise $A$ is invertible. We can use NumPy to help us figure this out, and to find the inverse of a matrix! "
   ]
  },
  {
   "cell_type": "markdown",
   "id": "incoming-armor",
   "metadata": {},
   "source": [
    "<b>Exercise:</b> Find the determinant of the matrices A, B, C and D defined below. If the determinant $\\neq 0$, find it's inverse. Then verify that the product of a matrix and it's inverse is the identity. With NumPy, you can use np.eye(n) to produce $I_{n \\times n}$. (NumPy has a great library for linear algebra which you can use here, and which we will be using throughout the course: https://numpy.org/doc/stable/reference/routines.linalg.html)."
   ]
  },
  {
   "cell_type": "code",
   "execution_count": 8,
   "id": "corrected-popularity",
   "metadata": {},
   "outputs": [],
   "source": [
    "A = np.array([[1,2,3],[0,1,4],[5,6,0]])\n",
    "\n",
    "B = np.array([[1,2,3],[4,5,6],[7,8,9]])\n",
    "\n",
    "C = np.array([[6,-1,-1],[-1,6,-1],[-1,-1,1]])\n",
    "\n",
    "D = np.array([[-2,4],[1,-3]])"
   ]
  },
  {
   "cell_type": "markdown",
   "id": "future-health",
   "metadata": {},
   "source": [
    "<b><u>Diagonal Matrix</u></b> Diagonal matrices are square matrices which have entries along the diagonal and zeros everywhere else. Diagonal matrices are nice to work with because:\n",
    "\n",
    "1. Their eigenvalues and eigenvectors are known (will cover this in later section)\n",
    "2. Raising diagonal matrices to a power is equivalent to raising each of it's diagonal entries to that power. Instead of multiplying out a matrix p times, you can just computer scalars to a power instead:\n",
    "\n",
    "$$\\begin{pmatrix}\\ x_1 & 0 & 0\\\\0 & x_2 & 0\\\\0 & 0 & x_3\\end{pmatrix} \\times \\begin{pmatrix}\\ x_1 & 0 & 0\\\\0 & x_2 & 0\\\\0 & 0 & x_3\\end{pmatrix} \\times ... \\times \\begin{pmatrix}\\ x_1 & 0 & 0\\\\0 & x_2 & 0\\\\0 & 0 & x_3\\end{pmatrix} = \\begin{pmatrix}\\ (x_1)^p & 0 & 0\\\\0 & (x_2)^p & 0\\\\0 & 0 & (x_3)^p\\end{pmatrix}$$"
   ]
  },
  {
   "cell_type": "markdown",
   "id": "august-flower",
   "metadata": {},
   "source": [
    "<b><u>Exercise</u></b>: Computationally, find the results of taking the matrices below to the expressed powers:\n",
    "\n",
    "$$ \\begin{pmatrix}1 & 0 & 0\\\\0 & 2 & 0\\\\0 & 0 & 3\\end{pmatrix}^{ 3} \\qquad \\begin{pmatrix}-1 & 0 & 0\\\\0 & 2 & 0\\\\0 & 0 & 1\\end{pmatrix}^{5}$$"
   ]
  },
  {
   "cell_type": "markdown",
   "id": "metropolitan-boring",
   "metadata": {},
   "source": [
    "## Inner Products and Norms"
   ]
  },
  {
   "cell_type": "markdown",
   "id": "electrical-likelihood",
   "metadata": {},
   "source": [
    "Inner product is another term for dot product, and in this section we will further explore the importance of finding the inner product between vectors and normalizing vectors. Consider the supervised machine learning scenario presented earlier, where you have n entries of d-dimensional feature vectors represented as $X$, n labels for those feature vectors, $\\vec{y},$ and the *best* $\\vec{\\beta}$ that represents the relationship between $X$ and $\\vec{y}$. This is a very general model, and there are many different algorithms that fall under the umbrella of 'supervised machine learning.' But they all beg the question of what does *best* mean in this context. In general, *best* means the value for $\\beta$ which minimizes the error when predicting $\\vec{y}$. The way we typically find this prediction error is by finding the norm of $(X\\vec{\\beta} - \\vec{y})$."
   ]
  },
  {
   "cell_type": "markdown",
   "id": "filled-identity",
   "metadata": {},
   "source": [
    "The <b><u>norm</u></b> of a vector informally represents the 'length' of a vector. For example, the $\\ell_2$-norm (a.k.a the Euclidean norm) is the square root of the dot product of a vector with itself, represented as $\\|\\vec{x}\\|$:\n",
    "\n",
    "$$\\|\\vec{x}\\| = \\sqrt{x_0^2 + x_1^2 + \\cdots + x_n^2}$$\n",
    "\n",
    "Similarly, there are other types of norms, $\\ell_1$-norm (finds returns the sum of the absolute value of each entry), and the $\\ell_{\\infty}$-norm (returns the maximum of the absolute value of each entry of a vector)."
   ]
  },
  {
   "cell_type": "markdown",
   "id": "practical-lawyer",
   "metadata": {},
   "source": [
    "<b><u>Exercise</u></b> find the $\\ell_1$-norm, $\\ell_2$-norm and $\\ell_{\\infty}$-norm of the following vectors:\n",
    "\n",
    "$$\\vec{a} = \\begin{pmatrix}\\ 4\\\\-2\\\\-7\\\\3\\end{pmatrix} \\qquad \\vec{b} = \\begin{pmatrix}\\ 1\\\\1\\\\1\\\\1\\\\1\\end{pmatrix} \\qquad \\vec{c} = \\begin{pmatrix}\\ 100\\\\10\\\\0\\\\-10\\\\-100\\end{pmatrix}$$"
   ]
  },
  {
   "cell_type": "code",
   "execution_count": 12,
   "id": "furnished-diamond",
   "metadata": {},
   "outputs": [],
   "source": [
    "a = np.array([4,-2,7,3])\n",
    "b = np.array([1,1,1,1,1])\n",
    "c = np.array([100,10,0,-10,-100])\n",
    "\n",
    "# Using numpy or computations, find l_1, l_2, l_inf norms of a and b"
   ]
  },
  {
   "attachments": {
    "57510516-f031-4cce-9a91-ac049cb90ba0.png": {
     "image/png": "[encoded data removed]"
    }
   },
   "cell_type": "markdown",
   "id": "embedded-links",
   "metadata": {},
   "source": [
    "<b><u>Orthogonal Vectors</u></b>: Orthogonal means perpindicular, so if two vectors are orthogonal then they are perpindicular to one another. Computationally, two vectors are orthogonal if $\\vec{x} \\cdot \\vec{y} = 0$. For example, the two red vectors below are orthogonal.\n",
    "\n",
    "![image.png](attachment:57510516-f031-4cce-9a91-ac049cb90ba0.png)"
   ]
  },
  {
   "cell_type": "markdown",
   "id": "offensive-miller",
   "metadata": {},
   "source": [
    "<b><u>Exercise</u></b>: Determine which of the following pairs of vectors are orthogonal.\n",
    "    \n",
    "$$\\vec{a}=\\begin{pmatrix}1\\\\0\\\\0\\end{pmatrix},\\vec{b}=\\begin{pmatrix}0\\\\1\\\\0\\end{pmatrix}$$\n",
    "\n",
    "$$\\vec{c}=\\begin{pmatrix}1\\\\1\\\\1\\end{pmatrix},\\vec{d}=\\begin{pmatrix}5\\\\2\\\\0\\end{pmatrix}$$\n",
    "\n",
    "$$\\vec{e}=\\begin{pmatrix}1\\\\-1\\\\0\\end{pmatrix},\\vec{f}=\\begin{pmatrix}-1\\\\1\\\\0\\end{pmatrix}$$"
   ]
  },
  {
   "cell_type": "code",
   "execution_count": 4,
   "id": "cross-speech",
   "metadata": {},
   "outputs": [],
   "source": [
    "a = np.array([1,0,0])\n",
    "b = np.array([0,1,0])\n",
    "c = np.array([1,1,1])\n",
    "d = np.array([5,2,0])\n",
    "e = np.array([1,-1,0])\n",
    "f = np.array([-1,1,0])\n",
    "\n",
    "# determine which pairs of vectors out of (a,b), (c,d), and (e,f) are orthogonal"
   ]
  },
  {
   "cell_type": "markdown",
   "id": "accurate-pantyhose",
   "metadata": {},
   "source": [
    "## Eigenvalues and Eigenvectors"
   ]
  },
  {
   "cell_type": "markdown",
   "id": "metallic-arkansas",
   "metadata": {},
   "source": [
    "<b><u>Matrix Decomposition</u></b>: Matrix decompositions are used to reduce a matrices to their constituent parts, which is helpful for simplifying complex operations!\n",
    "\n",
    "<b><u>Principle Component Analysis</u></b> In machine learning when trying to train a model from a given dataset, you'll often find yourself having really high-dimensional data (i.e., a really large value of d). This is often hard to deal with, and if you can break it into a smaller set of \"summary indices\", then it is easier to analyze and visualize your data. One way to deal with this is by using <b>Principal Component Analysis</b> (PCA), where you calculate a projection of the original data into the same number of or fewer dimensions. In order to do PCA, you need to understand eigenvalues and eigenvectors.\n",
    "\n",
    "<b><u>Eigenvalues and Eigenvectors</u></b> Eigen in German means characteristic, so *eigenvector* means characteristic vector. In order to get a better understanding of what this means, it's useful to return back to our geometric interpretation of linear algebra. Just as we could think of vectors as location and direction, we can think of matrices as linear transformations, where matrix-vector multiplication transforrms a vector. With this idea in mind, we can define $\\lambda$ as the <b>eigenvalue</b> for a matrix $A$ for corresponding <b>eigenvector</b> $\\vec{x}$ such that $A\\vec{x} = \\lambda\\vec{x}$. Intuitively, this definition means that multiplying $A$ by the vector $\\vec{x}$ results in a new vector that points in the same direction as $\\vec{x}$, but scaled by a factor $\\lambda$. You can only find eigenvalues and eigenvectors for square matrices."
   ]
  },
  {
   "attachments": {
    "9202a5eb-b335-4d64-938a-0d891379cc4d.png": {
     "image/png": "[encoded data removed]"
    }
   },
   "cell_type": "markdown",
   "id": "worse-bidding",
   "metadata": {},
   "source": [
    "For example, if you consider the example below, the matrix $A$ transforms vector $\\vec{v}$ by extending it by a value of two without changing it's direction. Therefore, 2 is the **eighenvalue** for matrix $A$ for corresponding **eigenvector** $\\vec{v}$.\n",
    "\n",
    "$$A = \\begin{pmatrix}2 & 0\\\\0 & 2\\end{pmatrix} \\qquad \\vec{v} = \\begin{pmatrix}1\\\\1\\end{pmatrix}$$\n",
    "![image.png](attachment:9202a5eb-b335-4d64-938a-0d891379cc4d.png)"
   ]
  },
  {
   "cell_type": "markdown",
   "id": "bridal-tyler",
   "metadata": {},
   "source": [
    "<b><u>Exercise</u></b> Using NumPy, find the eigenvalues of the following matrices:\n",
    "\n",
    "$$J = \\begin{pmatrix}\\ 2 & 2 & 2\\\\2 & 2 & 2\\\\2 & 2 & 2\\end{pmatrix} \\qquad K = \\begin{pmatrix}\\ 1 & 2 & 3\\\\0 & 4 & 5\\\\0 & 0 & 6\\end{pmatrix} \\qquad L = \\begin{pmatrix}\\ 0 & 0 & 1\\\\0 & 2 & 0\\\\3 & 0 & 0\\end{pmatrix}$$"
   ]
  },
  {
   "cell_type": "markdown",
   "id": "ignored-marble",
   "metadata": {},
   "source": [
    "## Singular Value Decomposition"
   ]
  },
  {
   "attachments": {
    "5d25b84f-f95f-4fe5-ba54-b2297387b420.png": {
     "image/png": "[encoded data removed]"
    },
    "e6d1c8c1-6a9e-42e1-9bf5-8ef6cd83b742.png": {
     "image/png": "[encoded data removed]"
    }
   },
   "cell_type": "markdown",
   "id": "whole-import",
   "metadata": {},
   "source": [
    "Another popular form of matrix decomposition that is used to help with dimensionality reduction and compression is **Singular Value Decomposition** (SVD). \n",
    "\n",
    "Since we can only decompose square matrices into eigenvalues and eigenvectors, we turn to SVD to decompose non-square $m \\times n$-dimensional matrices. In very simplified terms, SVD is just decomposing vectors onto orthogonal (perpindicular) axes. There's a lot of interesting geometry behind SVD which we will not get into today, but the general idea is that we typically think of 2-dimensional vectors in terms of the x- and y-axes, but we can really think of vectors in terms of different bases. The x- and y-axes are represented by the unit vectors: (1,0) and (0,1), and we typically represent vectors in $\\mathbb{R}^2$ as (*how much you move in the direction of (1,0), how much you move in the direction of (0,1)*, a.k.a, (*how much you move right, how much you move left*). \n",
    "\n",
    "![image.png](attachment:e6d1c8c1-6a9e-42e1-9bf5-8ef6cd83b742.png)\n",
    "\n",
    "For example, in the graph above: we see that we move to the right 1 unit, and to the left 1 unit. \n",
    "\n",
    "But, the same vector represented as (1,1) in $\\mathbb{R}^2$ can be represented as something else when we change what these **basis vectors** are. If instead we use the matrix below as our basis, then (1,1) would be represented as (0,1), since you move 1 $\\times$ (1,1) and 0 $\\times$(1,-1). \n",
    "\n",
    "$$\\begin{pmatrix}1 & -1\\\\1 & 1\\end{pmatrix}$$\n",
    "\n",
    "![image.png](attachment:5d25b84f-f95f-4fe5-ba54-b2297387b420.png)\n",
    "\n",
    "In order to express multiple vectors making up a matrix in another way, we can extend this concept multiple times, and what we get is essentially taking a matrix $A_{m \\times n}$ and factoring it into $A = U \\Sigma V^{*}$, where $U_{m \\times m}$, $V_{n \\times n}$, and $\\Sigma_{m \\times n}$ is a diagonal matrix. Learning what these other matrices mean is beyond the scope of this class, but there are definitely some great resources if you'd like to learn more! For now, we can use NumPy to help us decompose non-diagonal matrices. "
   ]
  },
  {
   "cell_type": "markdown",
   "id": "according-whole",
   "metadata": {},
   "source": [
    "<b><u>Exercise</u></b> Using SVD in NumPy, decompose the following matrix:\n",
    "\n",
    "$$J = \\begin{pmatrix}\\ 1 & 2\\\\0 & 1\\\\2 & -1\\end{pmatrix}$$"
   ]
  },
  {
   "cell_type": "code",
   "execution_count": 4,
   "id": "roman-utility",
   "metadata": {},
   "outputs": [],
   "source": [
    "J = np.array([[1,2],[0,1],[2,-1]])\n",
    "\n",
    "# use NumPy to decompose this matrix"
   ]
  },
  {
   "cell_type": "code",
   "execution_count": null,
   "id": "unavailable-sapphire",
   "metadata": {},
   "outputs": [],
   "source": []
  }
 ],
 "metadata": {
  "kernelspec": {
   "display_name": "Python 3",
   "language": "python",
   "name": "python3"
  },
  "language_info": {
   "codemirror_mode": {
    "name": "ipython",
    "version": 3
   },
   "file_extension": ".py",
   "mimetype": "text/x-python",
   "name": "python",
   "nbconvert_exporter": "python",
   "pygments_lexer": "ipython3",
   "version": "3.9.1"
  }
 },
 "nbformat": 4,
 "nbformat_minor": 5
}
